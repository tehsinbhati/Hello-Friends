{
  "nbformat": 4,
  "nbformat_minor": 0,
  "metadata": {
    "colab": {
      "name": "Untitled0.ipynb",
      "provenance": [],
      "authorship_tag": "ABX9TyOTvKHH+tekA6efdJTk4mcZ",
      "include_colab_link": true
    },
    "kernelspec": {
      "name": "python3",
      "display_name": "Python 3"
    },
    "language_info": {
      "name": "python"
    }
  },
  "cells": [
    {
      "cell_type": "markdown",
      "metadata": {
        "id": "view-in-github",
        "colab_type": "text"
      },
      "source": [
        "<a href=\"https://colab.research.google.com/github/tehsinbhati/Hello-Friends/blob/master/Tesla%20STOCK.ipynb\" target=\"_parent\"><img src=\"https://colab.research.google.com/assets/colab-badge.svg\" alt=\"Open In Colab\"/></a>"
      ]
    },
    {
      "cell_type": "code",
      "metadata": {
        "colab": {
          "base_uri": "https://localhost:8080/"
        },
        "id": "An-FBYpw8JRj",
        "outputId": "6f7486cf-aefe-4801-ce62-0f0e589da45a"
      },
      "source": [
        "import numpy as np \n",
        "import pandas as pd \n",
        "import matplotlib.pyplot as plt\n",
        "from pandas.plotting import lag_plot\n",
        "from pandas import datetime\n",
        "from statsmodels.tsa.arima_model import ARIMA\n",
        "from sklearn.metrics import mean_squared_error"
      ],
      "execution_count": 8,
      "outputs": [
        {
          "output_type": "stream",
          "name": "stderr",
          "text": [
            "/usr/local/lib/python3.7/dist-packages/ipykernel_launcher.py:5: FutureWarning: The pandas.datetime class is deprecated and will be removed from pandas in a future version. Import from datetime module instead.\n",
            "  \"\"\"\n"
          ]
        }
      ]
    },
    {
      "cell_type": "code",
      "metadata": {
        "colab": {
          "base_uri": "https://localhost:8080/",
          "height": 203
        },
        "id": "eonLUErr9EW8",
        "outputId": "5d64cc4c-188e-4fdb-eca2-4ccaea869682"
      },
      "source": [
        "df = pd.read_csv(\"TSLA.csv\")\n",
        "df.head(5)"
      ],
      "execution_count": 9,
      "outputs": [
        {
          "output_type": "execute_result",
          "data": {
            "text/html": [
              "<div>\n",
              "<style scoped>\n",
              "    .dataframe tbody tr th:only-of-type {\n",
              "        vertical-align: middle;\n",
              "    }\n",
              "\n",
              "    .dataframe tbody tr th {\n",
              "        vertical-align: top;\n",
              "    }\n",
              "\n",
              "    .dataframe thead th {\n",
              "        text-align: right;\n",
              "    }\n",
              "</style>\n",
              "<table border=\"1\" class=\"dataframe\">\n",
              "  <thead>\n",
              "    <tr style=\"text-align: right;\">\n",
              "      <th></th>\n",
              "      <th>Date</th>\n",
              "      <th>Open</th>\n",
              "      <th>High</th>\n",
              "      <th>Low</th>\n",
              "      <th>Close</th>\n",
              "      <th>Adj Close</th>\n",
              "      <th>Volume</th>\n",
              "    </tr>\n",
              "  </thead>\n",
              "  <tbody>\n",
              "    <tr>\n",
              "      <th>0</th>\n",
              "      <td>2020-09-21</td>\n",
              "      <td>453.130005</td>\n",
              "      <td>455.679993</td>\n",
              "      <td>407.070007</td>\n",
              "      <td>449.390015</td>\n",
              "      <td>449.390015</td>\n",
              "      <td>109476800</td>\n",
              "    </tr>\n",
              "    <tr>\n",
              "      <th>1</th>\n",
              "      <td>2020-09-22</td>\n",
              "      <td>429.600006</td>\n",
              "      <td>437.760010</td>\n",
              "      <td>417.600006</td>\n",
              "      <td>424.230011</td>\n",
              "      <td>424.230011</td>\n",
              "      <td>79580800</td>\n",
              "    </tr>\n",
              "    <tr>\n",
              "      <th>2</th>\n",
              "      <td>2020-09-23</td>\n",
              "      <td>405.160004</td>\n",
              "      <td>412.149994</td>\n",
              "      <td>375.880005</td>\n",
              "      <td>380.359985</td>\n",
              "      <td>380.359985</td>\n",
              "      <td>95074200</td>\n",
              "    </tr>\n",
              "    <tr>\n",
              "      <th>3</th>\n",
              "      <td>2020-09-24</td>\n",
              "      <td>363.799988</td>\n",
              "      <td>399.500000</td>\n",
              "      <td>351.299988</td>\n",
              "      <td>387.790009</td>\n",
              "      <td>387.790009</td>\n",
              "      <td>96561100</td>\n",
              "    </tr>\n",
              "    <tr>\n",
              "      <th>4</th>\n",
              "      <td>2020-09-25</td>\n",
              "      <td>393.470001</td>\n",
              "      <td>408.730011</td>\n",
              "      <td>391.299988</td>\n",
              "      <td>407.339996</td>\n",
              "      <td>407.339996</td>\n",
              "      <td>67208500</td>\n",
              "    </tr>\n",
              "  </tbody>\n",
              "</table>\n",
              "</div>"
            ],
            "text/plain": [
              "         Date        Open        High  ...       Close   Adj Close     Volume\n",
              "0  2020-09-21  453.130005  455.679993  ...  449.390015  449.390015  109476800\n",
              "1  2020-09-22  429.600006  437.760010  ...  424.230011  424.230011   79580800\n",
              "2  2020-09-23  405.160004  412.149994  ...  380.359985  380.359985   95074200\n",
              "3  2020-09-24  363.799988  399.500000  ...  387.790009  387.790009   96561100\n",
              "4  2020-09-25  393.470001  408.730011  ...  407.339996  407.339996   67208500\n",
              "\n",
              "[5 rows x 7 columns]"
            ]
          },
          "metadata": {},
          "execution_count": 9
        }
      ]
    },
    {
      "cell_type": "code",
      "metadata": {
        "colab": {
          "base_uri": "https://localhost:8080/",
          "height": 295
        },
        "id": "BtQRcb8I9VhQ",
        "outputId": "9d101d3d-be06-4265-e8c6-dc212f546cdc"
      },
      "source": [
        "plt.figure()\n",
        "lag_plot(df['Open'], lag=3)\n",
        "plt.title('TESLA Stock - Autocorrelation plot with lag = 3')\n",
        "plt.show()"
      ],
      "execution_count": 10,
      "outputs": [
        {
          "output_type": "display_data",
          "data": {
            "image/png": "[encoded data removed]",
            "text/plain": [
              "<Figure size 432x288 with 1 Axes>"
            ]
          },
          "metadata": {
            "needs_background": "light"
          }
        }
      ]
    },
    {
      "cell_type": "code",
      "metadata": {
        "colab": {
          "base_uri": "https://localhost:8080/",
          "height": 295
        },
        "id": "e4aeWa0A9bgm",
        "outputId": "bb3a36bf-c18a-469a-9245-97ae3a3b57f2"
      },
      "source": [
        "plt.plot(df[\"Date\"], df[\"Close\"])\n",
        "plt.xticks(np.arange(0,1259, 200), df['Date'][0:1259:200])\n",
        "plt.title(\"TESLA stock price over time\")\n",
        "plt.xlabel(\"time\")\n",
        "plt.ylabel(\"price\")\n",
        "plt.show()"
      ],
      "execution_count": 11,
      "outputs": [
        {
          "output_type": "display_data",
          "data": {
            "image/png": "[encoded data removed]",
            "text/plain": [
              "<Figure size 432x288 with 1 Axes>"
            ]
          },
          "metadata": {
            "needs_background": "light"
          }
        }
      ]
    },
    {
      "cell_type": "code",
      "metadata": {
        "colab": {
          "base_uri": "https://localhost:8080/"
        },
        "id": "6fQ7jrLV9eCl",
        "outputId": "bd51ad8e-d94b-4a72-a760-b2c68ff58032"
      },
      "source": [
        "train_data, test_data = df[0:int(len(df)*0.7)], df[int(len(df)*0.7):]\n",
        "training_data = train_data['Close'].values\n",
        "test_data = test_data['Close'].values\n",
        "history = [x for x in training_data]\n",
        "model_predictions = []\n",
        "N_test_observations = len(test_data)\n",
        "for time_point in range(N_test_observations):\n",
        "    model = ARIMA(history, order=(4,1,0))\n",
        "    model_fit = model.fit(disp=0)\n",
        "    output = model_fit.forecast()\n",
        "    yhat = output[0]\n",
        "    model_predictions.append(yhat)\n",
        "    true_test_value = test_data[time_point]\n",
        "    history.append(true_test_value)\n",
        "MSE_error = mean_squared_error(test_data, model_predictions)\n",
        "print('Testing Mean Squared Error is {}'.format(MSE_error))"
      ],
      "execution_count": 12,
      "outputs": [
        {
          "output_type": "stream",
          "name": "stdout",
          "text": [
            "Testing Mean Squared Error is 197.79623963741477\n"
          ]
        }
      ]
    },
    {
      "cell_type": "code",
      "metadata": {
        "colab": {
          "base_uri": "https://localhost:8080/",
          "height": 285
        },
        "id": "GzAn1VAv9oF4",
        "outputId": "264bb3c9-c9da-4014-ef0f-4ccf8576f497"
      },
      "source": [
        "test_set_range = df[int(len(df)*0.7):].index\n",
        "plt.plot(test_set_range, model_predictions, color='blue', marker='o', linestyle='dashed',label='Predicted Price')\n",
        "plt.plot(test_set_range, test_data, color='red', label='Actual Price')\n",
        "plt.title('TESLA Prices Prediction')\n",
        "plt.xlabel('Date')\n",
        "plt.ylabel('Prices')\n",
        "plt.xticks(np.arange(881,1259,50), df.Date[881:1259:50])\n",
        "plt.legend()\n",
        "plt.show()"
      ],
      "execution_count": 13,
      "outputs": [
        {
          "output_type": "display_data",
          "data": {
            "image/png": "[encoded data removed]",
            "text/plain": [
              "<Figure size 432x288 with 1 Axes>"
            ]
          },
          "metadata": {
            "needs_background": "light"
          }
        }
      ]
    }
  ]
}