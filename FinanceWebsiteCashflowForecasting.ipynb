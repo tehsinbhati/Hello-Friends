{
  "nbformat": 4,
  "nbformat_minor": 0,
  "metadata": {
    "colab": {
      "name": "FinanceWebsiteCashflowForecasting.ipynb",
      "provenance": [],
      "collapsed_sections": [],
      "authorship_tag": "ABX9TyNRaNxCksNNQiBYqRzWdl9k",
      "include_colab_link": true
    },
    "kernelspec": {
      "name": "python3",
      "display_name": "Python 3"
    },
    "language_info": {
      "name": "python"
    }
  },
  "cells": [
    {
      "cell_type": "markdown",
      "metadata": {
        "id": "view-in-github",
        "colab_type": "text"
      },
      "source": [
        "<a href=\"https://colab.research.google.com/github/tehsinbhati/Hello-Friends/blob/master/FinanceWebsiteCashflowForecasting.ipynb\" target=\"_parent\"><img src=\"https://colab.research.google.com/assets/colab-badge.svg\" alt=\"Open In Colab\"/></a>"
      ]
    },
    {
      "cell_type": "code",
      "metadata": {
        "id": "RspnaW1mJncC"
      },
      "source": [
        "import time\n",
        "import csv\n",
        "import os.path\n",
        "import numpy as np \n",
        "import pandas as pd \n",
        "import requests \n",
        "from bs4 import BeautifulSoup "
      ],
      "execution_count": 5,
      "outputs": []
    },
    {
      "cell_type": "code",
      "metadata": {
        "id": "jZDq5ugBM1DJ"
      },
      "source": [
        "def request_with_check(url):\n",
        "    \n",
        "    headers = {'User-Agent': 'Mozilla/5.0 (Macintosh; Intel Mac OS X 10_11_5) AppleWebKit/537.36 (KHTML, like Gecko) Chrome/50.0.2661.102 Safari/537.36 , For: a Tutorial kernel By: elamraoui sohayb'}\n",
        "    page_response = requests.get(url, headers=headers, timeout=60)\n",
        "    if page_response.status_code>299:\n",
        "        raise AssertionError(\"page content not found, status: %s\"%page_response.status_code)\n",
        "    \n",
        "    return page_response   "
      ],
      "execution_count": 6,
      "outputs": []
    },
    {
      "cell_type": "code",
      "metadata": {
        "colab": {
          "base_uri": "https://localhost:8080/",
          "height": 194
        },
        "id": "FzkNLXo8M6A4",
        "outputId": "5b450e00-b6f9-4467-eed2-0109f7f5dbac"
      },
      "source": [
        "page_test = request_with_check('https://www.investing.com/news/commodities-news')\n",
        "# Cheking the first 5000 charchters of the HTML code\n",
        "page_test.text[:5000]"
      ],
      "execution_count": 7,
      "outputs": [
        {
          "output_type": "execute_result",
          "data": {
            "application/vnd.google.colaboratory.intrinsic+json": {
              "type": "string"
            },
            "text/plain": [
              "' <!DOCTYPE HTML>\\n<html dir=\"ltr\" xmlns=\"http://www.w3.org/1999/xhtml\" xml:lang=\"en\" xmlns:schema=\"http://schema.org/\" class=\"com\" lang=\"en\" geo=\"US\">\\n<head>\\n<script type=\"text/javascript\">\\n    function OptanonWrapper() { }\\n\\n    // temp for checks\\n    </script>\\n<style>\\n\\t.ot-floating-button {\\n\\t\\tz-index:12 !important;\\n\\t}\\n</style>\\n<script type=\"text/javascript\">\\n        window.helpers = {\\n            \\'getCookie\\': function (k){var v=\"; \"+document.cookie;var p=v.split(\"; \"+k+\"=\");if(p.length===2)return p.pop().split(\";\").shift();else return null},\\n            \\'setCookie\\': function (k,v,d){var e=\\'\\';if(typeof d!==\\'undefined\\'){var n=new Date;n.setTime(n.getTime()+864e5*d);e+=\\';expires=\"\\';e+=n.toGMTString();e+=\\'\"\\';}document.cookie=k+\\'=\\'+v+\\';path=/\\' + e},\\n            \\'delCookie\\': function (k){document.cookie=k+\\'=;path=/;expires=-1\\'},\\n            \\'isNumber\\': function (n){return !isNaN(n)&&typeof n!==undefined&&n!==null&&n!==\\'\\'},\\n            \\'removeClass\\': function (e,c){if(document.documentElement.classList){e.classList.remove(c);}else{var r=new RegExp(\\'(^|\\\\\\\\s)\\'+c+\\'(\\\\\\\\s|$)\\', \\'g\\');e.className=e.className.replace(r, c)}},\\n            \\'addClass\\': function (e,c){if(document.documentElement.classList){e.classList.add(c);}else{if(e.className.indexOf(c)<0){if((e.className!==\\'\\'&&e.className.charAt[e.className.length-1]===\\' \\')||e.className===\\'\\'){e.className+=c}else{e.className+=\\' \\'+c}}}},\\n            \\'hasClass\\': function (e,c){if(document.documentElement.classList){e.classList.contains(c);}else{return e.className.indexOf(c)>=0}},\\n        };\\n    </script>\\n<link rel=\"preconnect\" href=\"https://securepubads.g.doubleclick.net\">\\n<script>\\n    window.isGDPR   = 0;\\n    window.isCCPA \\t= 0;\\n\\n    const loadGpt = () => {\\n\\t\\tlet gptScript = document.createElement( \\'script\\' );\\n\\t\\tgptScript.onload = function () {\\n\\t\\t\\tconsole.log(\\'gpt loaded\\');\\n\\t\\t};\\n\\t\\tgptScript.async = true;\\n\\t\\tgptScript.src = \\'https://securepubads.g.doubleclick.net/tag/js/gpt.js\\';\\n\\t\\tdocument.head.appendChild(gptScript);\\n    }\\n\\n    if( window.isGDPR ){\\n        const consentSetInterval = setInterval(() => {\\n            if( typeof window.__tcfapi !== \\'undefined\\' )\\n            {\\n                clearInterval(consentSetInterval);\\n                window.__tcfapi( \\'addEventListener\\', 2, function( tcData,listenerSuccess )\\n                {\\n\\t\\t\\t\\t\\tif(listenerSuccess) {\\n\\t\\t\\t\\t\\t\\tif( tcData && (tcData.eventStatus === \\'tcloaded\\' || tcData.eventStatus === \\'useractioncomplete\\') ) {\\n\\t\\t\\t\\t\\t\\t\\tvar hasDeviceStorageAndAccessConsent = tcData.purpose.consents[1] || false;\\n\\t\\t\\t\\t\\t\\t\\t// Google Requires Consent for Purpose 1\\n\\t\\t\\t\\t\\t\\t\\tif (hasDeviceStorageAndAccessConsent) {\\n\\t\\t\\t\\t\\t\\t\\t\\t// GLOBAL VENDOR LIST - https://iabeurope.eu/vendor-list-tcf-v2-0/\\n\\t\\t\\t\\t\\t\\t\\t\\t// CHECK FOR GOOGLE ADVERTISING PRODUCTS CONSENT. (IAB Vendor ID 755)\\n\\t\\t\\t\\t\\t\\t\\t\\tvar hasGoogleAdvertisingProductsConsent = tcData.vendor.consents[755] || false;\\n\\t\\t\\t\\t\\t\\t\\t\\t// Check if the user gave Google Advertising Products consent (iab vendor 755)\\n\\t\\t\\t\\t\\t\\t\\t\\tif(hasGoogleAdvertisingProductsConsent) {\\n\\t\\t\\t\\t\\t\\t\\t\\t\\tconsole.log(\"gpt loaded gdpr-ccpa\")\\n\\t\\t\\t\\t\\t\\t\\t\\t\\tloadGpt();\\n\\t\\t\\t\\t\\t\\t\\t\\t}\\n\\t\\t\\t\\t\\t\\t\\t}\\n\\t\\t\\t\\t\\t\\t}\\n\\t\\t\\t\\t\\t}\\n                })\\n            }\\n\\n        }, 50);\\n\\n    } else {\\n        loadGpt();\\n    }\\n\\n\\n\\t(function(i,s,o,g,r,a,m){i[\\'GoogleAnalyticsObject\\']=r;i[r]=i[r]||function(){\\n\\t\\t(i[r].q=i[r].q||[]).push(arguments)},i[r].l=1*new Date();a=s.createElement(o),\\n\\t\\tm=s.getElementsByTagName(o)[0];a.async=1;a.src=g;m.parentNode.insertBefore(a,m)\\n\\t})(window,document,\\'script\\',\\'//www.google-analytics.com/analytics.js\\',\\'ga\\');\\n\\n\\n    var allKeyValue = {\"Section\":\"content\",\"Sub_Section\":\"\",\"Charts_Page\":\"no\",\"Page_URL\":\"\\\\/news\\\\/commodities-news\",\"Domain\":\"www.investing.com\",\"smd\":\"160cd8ad4ddc313fea8df2ff3deb0140-1633600910\",\"protected_media\":\"0\",\"Crypto_Instrument\":\"No\",\"udid\":\"160cd8ad4ddc313fea8df2ff3deb0140\",\"edition_id\":\"1\",\"Traffic_Type\":\"OG\",\"User_type\":\"Not_Logged_in\",\"prebid_page\":\"0\"};\\n    var googletagGA = window.helpers.getCookie(\\'_ga\\');\\n\\n    if (googletagGA) {\\n        allKeyValue.CID = googletagGA.substr(6);\\n    }\\n\\n    // todo: change the screen width logic and move it from here to separate task\\n    var screenWidthForAds= screen.width || 1366,\\n        screenWidthValue,\\n        adBreakPoints = [1336,1440,1920];\\n\\n    if (screenWidthForAds < adBreakPoints[0]){ screenWidthValue = \\'small\\' }\\n    else if (screenWidthForAds >= adBreakPoints[0] && screenWidthForAds <= adBreakPoints[1]) {\\n        screenWidthValue = \\'medium\\'\\n    }\\n    else if (screenWidthForAds > adBreakPoints[1]) {\\n        screenWidthValue = \\'big\\'\\n    }\\n\\n    allKeyValue.screen_width = screenWidthValue;\\n</script>\\n<script src=\"https://i-invdn-com.investing.com/js/jquery-6.4.9.04.min.js\"></script>\\n<script src=\"https://i-invdn-com.investing.com/js/n/toolset-1.20.min.js\"></script>\\n<script type=\"text/javascript\">\\n        window.googletag = window.googletag || {};\\n        window.googletag.cmd = window.googletag.cmd || [];\\n\\n        window.loadSideBlockAd3 = function () {\\n            googletag.cmd.push(function () {\\n                _.defineS'"
            ]
          },
          "metadata": {},
          "execution_count": 7
        }
      ]
    },
    {
      "cell_type": "code",
      "metadata": {
        "id": "sPeah1edNFOx"
      },
      "source": [
        "def get_details(single_article):\n",
        "    \n",
        "    # A title is in <a></a> with the 'class' attribute set to: title\n",
        "    title = single_article.find('a',{'class':'title'})\n",
        "\n",
        "    # A safeguard against some empty articles in the deeper pages of the site\n",
        "    if title == None:\n",
        "        #print('Empty Article')\n",
        "        return None\n",
        "    \n",
        "    # the link to an article is the Href attribute\n",
        "    link = title['href']\n",
        "    \n",
        "    # A safeguarde against embedded Advertisment articles\n",
        "    if (('/news/'and category_name) not in link):\n",
        "        #print('Ad Article found')\n",
        "        return None       \n",
        "        \n",
        "    title = title.text\n",
        "    \n",
        "    # The first Paragraph is in <p></p>\n",
        "    first_p = single_article.find('p').text\n",
        "    \n",
        "    # the Source is in <span></span>, with Class == articleDetails\n",
        "    source_tag = single_article.find_all('span',{'class':'articleDetails'})\n",
        "    source = str(source_tag[0].span.text)\n",
        "    \n",
        "    #date is also in <span></span> withe the Class == date\n",
        "    date = single_article.find('span',{'class':'date'}).text\n",
        "    \n",
        "    return title, link, first_p, source, date"
      ],
      "execution_count": 8,
      "outputs": []
    },
    {
      "cell_type": "code",
      "metadata": {
        "id": "Kmb11-l1NKsZ"
      },
      "source": [
        "def single_page(Url_page,page_id = 1):\n",
        "\n",
        "    news_list = []\n",
        "\n",
        "    #Making the Http request\n",
        "    page = request_with_check(Url_page)\n",
        "    \n",
        "    #Calling the Html.parser to start extracting our data\n",
        "    html_soup = BeautifulSoup(page.text, 'html.parser')\n",
        "    \n",
        "    # The Articles Class\n",
        "    articles = html_soup.find('div',{'class':'largeTitle'})\n",
        "    \n",
        "    # The single Articles List\n",
        "    articleItems = articles.find_all('article' ,{'class':'articleItem'})\n",
        "\n",
        "    # Looping, for each single Article\n",
        "    for article in articleItems:\n",
        "        if get_details(article) == None:\n",
        "            continue\n",
        "        \n",
        "        title, link, first_p, source_tag, date = get_details(article)\n",
        "        news_list.append({'id_page':page_id,\n",
        "                          'title':title,   \n",
        "                          'date':date,\n",
        "                          'link': link,\n",
        "                          'source':source_tag,\n",
        "                          'first_p':first_p})\n",
        "\n",
        "    return news_list"
      ],
      "execution_count": 9,
      "outputs": []
    },
    {
      "cell_type": "code",
      "metadata": {
        "id": "mpKM0ttZNQR7"
      },
      "source": [
        "def dict_to_csv (filename,news_dict):\n",
        "    \n",
        "    #Setting the Dataframe headers\n",
        "    fields = news_dict[0]\n",
        "    fields = list(fields.keys())\n",
        "    \n",
        "    #Checking if the file already exists, if Exists we woulb pe appending, if Not we creat it\n",
        "    has_header = False\n",
        "    if os.path.isfile(filename):\n",
        "        with open(filename, 'r') as csvfile:\n",
        "            sniffer = csv.Sniffer()\n",
        "            has_header = sniffer.has_header(csvfile.read(2048))\n",
        "    \n",
        "    with open(filename, 'a',errors = 'ignore', encoding= 'utf-8') as csvfile:\n",
        "        writer = csv.DictWriter(csvfile, fieldnames=fields)\n",
        "        if(has_header == False):\n",
        "            writer.writeheader()  \n",
        "        for row in range(len(news_dict)):\n",
        "            item = news_dict[row]\n",
        "            writer.writerow(item)"
      ],
      "execution_count": 10,
      "outputs": []
    },
    {
      "cell_type": "code",
      "metadata": {
        "id": "PVRjmkS8NVOV"
      },
      "source": [
        "def parsing_category_pages(category_name,base_url,number_pages):\n",
        "    start_time = time.time()\n",
        "    \n",
        "    #getting the start page\n",
        "    page = request_with_check(base_url)\n",
        "\n",
        "    #Calling the Html Parser\n",
        "    html_soup = BeautifulSoup(page.text, 'html.parser')\n",
        "    \n",
        "    #Finding the Laste page\n",
        "    last_page = int(html_soup.findAll(class_='pagination')[-1].text)\n",
        "\n",
        "    if number_pages > last_page:\n",
        "        number_pages = last_page\n",
        "\n",
        "    #Looping over the specified nupber of Pages:\n",
        "    for p in range(1,number_pages,1):\n",
        "        category_page = base_url+'/'+str(p)\n",
        "        print('Parsing: ',category_page)\n",
        "        page_news = single_page(category_page,p)\n",
        "        \n",
        "        #Saving to a CSV\n",
        "        dict_to_csv(category_name+'.csv',page_news)\n",
        "        \n",
        "        #Time sleep\n",
        "        time.sleep(10)\n",
        "    \n",
        "    print(\"--- %s seconds ---\" % (time.time() - start_time))\n",
        "    return True"
      ],
      "execution_count": 11,
      "outputs": []
    },
    {
      "cell_type": "code",
      "metadata": {
        "colab": {
          "base_uri": "https://localhost:8080/"
        },
        "id": "YPYDDcuINYg_",
        "outputId": "10917538-49cf-4935-b2da-134b1d7c2198"
      },
      "source": [
        "URL = 'https://www.investing.com/news/'\n",
        "category_name = 'commodities-news'\n",
        "base_url = URL+category_name\n",
        "parsing_category_pages ('commodities-news',base_url,number_pages=5)"
      ],
      "execution_count": 12,
      "outputs": [
        {
          "output_type": "stream",
          "name": "stdout",
          "text": [
            "Parsing:  https://www.investing.com/news/commodities-news/1\n",
            "Parsing:  https://www.investing.com/news/commodities-news/2\n",
            "Parsing:  https://www.investing.com/news/commodities-news/3\n",
            "Parsing:  https://www.investing.com/news/commodities-news/4\n",
            "--- 48.878769874572754 seconds ---\n"
          ]
        },
        {
          "output_type": "execute_result",
          "data": {
            "text/plain": [
              "True"
            ]
          },
          "metadata": {},
          "execution_count": 12
        }
      ]
    },
    {
      "cell_type": "code",
      "metadata": {
        "colab": {
          "base_uri": "https://localhost:8080/",
          "height": 669
        },
        "id": "NIQeLxupNm9i",
        "outputId": "5f3cfdb4-c15e-47a0-91e5-e3457c19191f"
      },
      "source": [
        "data = pd.read_csv('commodities-news.csv')\n",
        "data.head(100)"
      ],
      "execution_count": 14,
      "outputs": [
        {
          "output_type": "execute_result",
          "data": {
            "text/html": [
              "<div>\n",
              "<style scoped>\n",
              "    .dataframe tbody tr th:only-of-type {\n",
              "        vertical-align: middle;\n",
              "    }\n",
              "\n",
              "    .dataframe tbody tr th {\n",
              "        vertical-align: top;\n",
              "    }\n",
              "\n",
              "    .dataframe thead th {\n",
              "        text-align: right;\n",
              "    }\n",
              "</style>\n",
              "<table border=\"1\" class=\"dataframe\">\n",
              "  <thead>\n",
              "    <tr style=\"text-align: right;\">\n",
              "      <th></th>\n",
              "      <th>id_page</th>\n",
              "      <th>title</th>\n",
              "      <th>date</th>\n",
              "      <th>link</th>\n",
              "      <th>source</th>\n",
              "      <th>first_p</th>\n",
              "    </tr>\n",
              "  </thead>\n",
              "  <tbody>\n",
              "    <tr>\n",
              "      <th>0</th>\n",
              "      <td>1</td>\n",
              "      <td>Oil extends losses as U.S. mulls strategic res...</td>\n",
              "      <td>- 11 minutes ago</td>\n",
              "      <td>/news/commodities-news/oil-drops-for-2nd-sessi...</td>\n",
              "      <td>By Reuters</td>\n",
              "      <td>By Ahmad Ghaddar LONDON (Reuters) - Oil price...</td>\n",
              "    </tr>\n",
              "    <tr>\n",
              "      <th>1</th>\n",
              "      <td>1</td>\n",
              "      <td>South Africa should not rush move away from co...</td>\n",
              "      <td>- 1 hour ago</td>\n",
              "      <td>/news/commodities-news/south-africa-should-not...</td>\n",
              "      <td>By Reuters</td>\n",
              "      <td>By Helen Reid and Alexander Winning JOHANNESB...</td>\n",
              "    </tr>\n",
              "    <tr>\n",
              "      <th>2</th>\n",
              "      <td>1</td>\n",
              "      <td>Exclusive-Lawyers warn EU against labelling ga...</td>\n",
              "      <td>- 3 hours ago</td>\n",
              "      <td>/news/commodities-news/exclusivelawyers-warn-e...</td>\n",
              "      <td>By Reuters</td>\n",
              "      <td>By Kate Abnett and Simon Jessop BRUSSELS (Reu...</td>\n",
              "    </tr>\n",
              "    <tr>\n",
              "      <th>3</th>\n",
              "      <td>1</td>\n",
              "      <td>OPEC+ caution and money behind reluctance to p...</td>\n",
              "      <td>- 4 hours ago</td>\n",
              "      <td>/news/commodities-news/opec-caution-and-money-...</td>\n",
              "      <td>By Reuters</td>\n",
              "      <td>By Alex Lawler, Ahmad Ghaddar and Olesya Asta...</td>\n",
              "    </tr>\n",
              "    <tr>\n",
              "      <th>4</th>\n",
              "      <td>1</td>\n",
              "      <td>Australia resources minister floats A$250 bill...</td>\n",
              "      <td>- 5 hours ago</td>\n",
              "      <td>/news/commodities-news/australia-resources-min...</td>\n",
              "      <td>By Reuters</td>\n",
              "      <td>MELBOURNE (Reuters) - Australia's resources m...</td>\n",
              "    </tr>\n",
              "    <tr>\n",
              "      <th>...</th>\n",
              "      <td>...</td>\n",
              "      <td>...</td>\n",
              "      <td>...</td>\n",
              "      <td>...</td>\n",
              "      <td>...</td>\n",
              "      <td>...</td>\n",
              "    </tr>\n",
              "    <tr>\n",
              "      <th>64</th>\n",
              "      <td>4</td>\n",
              "      <td>UK could issue more temporary visas to solve l...</td>\n",
              "      <td>- Oct 02, 2021</td>\n",
              "      <td>/news/commodities-news/uk-could-issue-more-tem...</td>\n",
              "      <td>By Reuters</td>\n",
              "      <td>LONDON (Reuters) - British Prime Minister Bor...</td>\n",
              "    </tr>\n",
              "    <tr>\n",
              "      <th>65</th>\n",
              "      <td>4</td>\n",
              "      <td>Fuel shortages remain in southeast England but...</td>\n",
              "      <td>- Oct 02, 2021</td>\n",
              "      <td>/news/commodities-news/fuel-shortages-remain-i...</td>\n",
              "      <td>By Reuters</td>\n",
              "      <td>LONDON (Reuters) - Gas stations in London and...</td>\n",
              "    </tr>\n",
              "    <tr>\n",
              "      <th>66</th>\n",
              "      <td>4</td>\n",
              "      <td>British military to help with fuel deliveries ...</td>\n",
              "      <td>- Oct 01, 2021</td>\n",
              "      <td>/news/commodities-news/british-military-to-hel...</td>\n",
              "      <td>By Reuters</td>\n",
              "      <td>LONDON (Reuters) - Britain will deploy almost...</td>\n",
              "    </tr>\n",
              "    <tr>\n",
              "      <th>67</th>\n",
              "      <td>4</td>\n",
              "      <td>Exclusive-White House, top Democrats agree to ...</td>\n",
              "      <td>- Oct 01, 2021</td>\n",
              "      <td>/news/commodities-news/exclusivewhite-house-to...</td>\n",
              "      <td>By Reuters</td>\n",
              "      <td>By Jarrett Renshaw and Timothy Gardner WASHIN...</td>\n",
              "    </tr>\n",
              "    <tr>\n",
              "      <th>68</th>\n",
              "      <td>4</td>\n",
              "      <td>With gas pumps still dry, Britain brings in th...</td>\n",
              "      <td>- Oct 01, 2021</td>\n",
              "      <td>/news/commodities-news/many-british-gas-statio...</td>\n",
              "      <td>By Reuters</td>\n",
              "      <td>By James Davey and Andrew MacAskill LONDON (R...</td>\n",
              "    </tr>\n",
              "  </tbody>\n",
              "</table>\n",
              "<p>69 rows × 6 columns</p>\n",
              "</div>"
            ],
            "text/plain": [
              "    id_page  ...                                            first_p\n",
              "0         1  ...   By Ahmad Ghaddar LONDON (Reuters) - Oil price...\n",
              "1         1  ...   By Helen Reid and Alexander Winning JOHANNESB...\n",
              "2         1  ...   By Kate Abnett and Simon Jessop BRUSSELS (Reu...\n",
              "3         1  ...   By Alex Lawler, Ahmad Ghaddar and Olesya Asta...\n",
              "4         1  ...   MELBOURNE (Reuters) - Australia's resources m...\n",
              "..      ...  ...                                                ...\n",
              "64        4  ...   LONDON (Reuters) - British Prime Minister Bor...\n",
              "65        4  ...   LONDON (Reuters) - Gas stations in London and...\n",
              "66        4  ...   LONDON (Reuters) - Britain will deploy almost...\n",
              "67        4  ...   By Jarrett Renshaw and Timothy Gardner WASHIN...\n",
              "68        4  ...   By James Davey and Andrew MacAskill LONDON (R...\n",
              "\n",
              "[69 rows x 6 columns]"
            ]
          },
          "metadata": {},
          "execution_count": 14
        }
      ]
    }
  ]
}