{
  "nbformat": 4,
  "nbformat_minor": 0,
  "metadata": {
    "colab": {
      "name": "Web Scrapping of Flipkart For Laptops.ipynb",
      "provenance": [],
      "authorship_tag": "ABX9TyMk+AjYPDyiel59MMz5XhQg",
      "include_colab_link": true
    },
    "kernelspec": {
      "name": "python3",
      "display_name": "Python 3"
    },
    "language_info": {
      "name": "python"
    }
  },
  "cells": [
    {
      "cell_type": "markdown",
      "metadata": {
        "id": "view-in-github",
        "colab_type": "text"
      },
      "source": [
        "<a href=\"https://colab.research.google.com/github/tehsinbhati/Hello-Friends/blob/master/Web_Scrapping_of_Flipkart_For_Laptops.ipynb\" target=\"_parent\"><img src=\"https://colab.research.google.com/assets/colab-badge.svg\" alt=\"Open In Colab\"/></a>"
      ]
    },
    {
      "cell_type": "code",
      "metadata": {
        "id": "_7rTufa_qGi5"
      },
      "source": [
        "import urllib.request\n",
        "from bs4 import BeautifulSoup\n",
        "from urllib.request import urlopen\n",
        "url = \"https://www.flipkart.com/search?q=best%20laptops%20under%2080000&otracker=search&otracker1=search&marketplace=FLIPKART&as-show=on&as=off\""
      ],
      "execution_count": 24,
      "outputs": []
    },
    {
      "cell_type": "code",
      "metadata": {
        "id": "5GIowhmQqeNj"
      },
      "source": [
        "page = urlopen(url)\n",
        "page_html = page.read()\n",
        "page.close()\n",
        "page_soup = BeautifulSoup(page_html, \"html.parser\")"
      ],
      "execution_count": 25,
      "outputs": []
    },
    {
      "cell_type": "code",
      "metadata": {
        "colab": {
          "base_uri": "https://localhost:8080/"
        },
        "id": "nHKPJ-hIqi4Z",
        "outputId": "d7147d88-8379-4ca9-dd52-d29b0e84a9f9"
      },
      "source": [
        "containers = page_soup.findAll(\"div\", { \"class\": \"_2kHMtA\"})\n",
        "print(len(containers))"
      ],
      "execution_count": 26,
      "outputs": [
        {
          "output_type": "stream",
          "name": "stdout",
          "text": [
            "40\n"
          ]
        }
      ]
    },
    {
      "cell_type": "code",
      "metadata": {
        "colab": {
          "base_uri": "https://localhost:8080/"
        },
        "id": "VzJytVgoqtB0",
        "outputId": "1523dbf1-e996-44f6-be00-35862a6dd50e"
      },
      "source": [
        "print(BeautifulSoup.prettify(containers[3]))"
      ],
      "execution_count": 27,
      "outputs": [
        {
          "output_type": "stream",
          "name": "stdout",
          "text": [
            "<div class=\"_2kHMtA\">\n",
            " <div class=\"_2tfzpE\">\n",
            "  <span>\n",
            "   Ad\n",
            "  </span>\n",
            " </div>\n",
            " <a class=\"_1fQZEK\" href=\"/asus-rog-zephyrus-g15-ryzen-9-octa-core-5900hs-16-gb-1-tb-ssd-windows-10-home-6-gb-graphics-nvidia-geforce-rtx-3060-165-hz-ga503qm-hq172ts-gaming-laptop/p/itm22adaf8101aa2?pid=COMG4NWBGU4BPTP3&amp;lid=LSTCOMG4NWBGU4BPTP3LLHFCM&amp;marketplace=FLIPKART&amp;q=best+laptops+under+80000&amp;store=search.flipkart.com&amp;srno=s_1_4&amp;otracker=search&amp;otracker1=search&amp;fm=organic&amp;iid=en_GMmHOBkjxl23hSwGcl3mQHl3ZFK0bKDaRF3gf5JBCBQ8UjBXXRpHgjUB7LMeWl4FBbYwzZeMnf6hlpS7xWUHmg%3D%3D&amp;ppt=None&amp;ppn=None&amp;ssid=aycvepix280000001633508521981&amp;qH=cdff68aec3053e4d\" rel=\"noopener noreferrer\" target=\"_blank\">\n",
            "  <div class=\"MIXNux\">\n",
            "   <div class=\"_2QcLo-\">\n",
            "    <div>\n",
            "     <div class=\"CXW8mj\" style=\"height:200px;width:200px\">\n",
            "      <img alt=\"ASUS ROG Zephyrus G15 Ryzen 9 Octa Core 5900HS - (16 GB/1 TB SSD/Windows 10 Home/6 GB Graphics/NVIDIA ...\" class=\"_396cs4 _3exPp9\" src=\"https://rukminim1.flixcart.com/image/312/312/ku4ezrk0/computer/w/a/y/na-gaming-laptop-asus-original-imag7bhdzwkvd4hm.jpeg?q=70\"/>\n",
            "     </div>\n",
            "    </div>\n",
            "   </div>\n",
            "   <div class=\"_3wLduG\">\n",
            "    <div class=\"_3PzNI-\">\n",
            "     <span class=\"f3A4_V\">\n",
            "      <label class=\"_2iDkf8\">\n",
            "       <input class=\"_30VH1S\" readonly=\"\" type=\"checkbox\"/>\n",
            "       <div class=\"_24_Dny\">\n",
            "       </div>\n",
            "      </label>\n",
            "     </span>\n",
            "     <label class=\"_6Up2sF\">\n",
            "      <span>\n",
            "       Add to Compare\n",
            "      </span>\n",
            "     </label>\n",
            "    </div>\n",
            "   </div>\n",
            "   <div class=\"_2hVSre _3nq8ih\">\n",
            "    <div class=\"_36FSn5\">\n",
            "     <svg class=\"_1l0elc\" height=\"16\" viewbox=\"0 0 20 16\" width=\"16\" xmlns=\"http://www.w3.org/2000/svg\">\n",
            "      <path class=\"eX72wL\" d=\"M8.695 16.682C4.06 12.382 1 9.536 1 6.065 1 3.219 3.178 1 5.95 1c1.566 0 3.069.746 4.05 1.915C10.981 1.745 12.484 1 14.05 1 16.822 1 19 3.22 19 6.065c0 3.471-3.06 6.316-7.695 10.617L10 17.897l-1.305-1.215z\" fill=\"#2874F0\" fill-rule=\"evenodd\" opacity=\".9\" stroke=\"#FFF\">\n",
            "      </path>\n",
            "     </svg>\n",
            "    </div>\n",
            "   </div>\n",
            "  </div>\n",
            "  <div class=\"_3pLy-c row\">\n",
            "   <div class=\"col col-7-12\">\n",
            "    <div class=\"_4rR01T\">\n",
            "     ASUS ROG Zephyrus G15 Ryzen 9 Octa Core 5900HS - (16 GB/1 TB SSD/Windows 10 Home/6 GB Graphics/NVIDIA ...\n",
            "    </div>\n",
            "    <div class=\"gUuXy-\">\n",
            "     <span class=\"_1lRcqv\" id=\"productRating_LSTCOMG4NWBGU4BPTP3LLHFCM_COMG4NWBGU4BPTP3_\">\n",
            "      <div class=\"_3LWZlK\">\n",
            "       4.2\n",
            "       <img class=\"_1wB99o\" src=\"data:image/svg+xml;base64,PHN2ZyB4bWxucz0iaHR0cDovL3d3dy53My5vcmcvMjAwMC9zdmciIHdpZHRoPSIxMyIgaGVpZ2h0PSIxMiI+PHBhdGggZmlsbD0iI0ZGRiIgZD0iTTYuNSA5LjQzOWwtMy42NzQgMi4yMy45NC00LjI2LTMuMjEtMi44ODMgNC4yNTQtLjQwNEw2LjUuMTEybDEuNjkgNC4wMSA0LjI1NC40MDQtMy4yMSAyLjg4Mi45NCA0LjI2eiIvPjwvc3ZnPg==\"/>\n",
            "      </div>\n",
            "     </span>\n",
            "     <span class=\"_2_R_DZ\">\n",
            "      <span>\n",
            "       <span>\n",
            "        18 Ratings\n",
            "       </span>\n",
            "       <span class=\"_13vcmD\">\n",
            "        &amp;\n",
            "       </span>\n",
            "       <span>\n",
            "        7 Reviews\n",
            "       </span>\n",
            "      </span>\n",
            "     </span>\n",
            "    </div>\n",
            "    <div class=\"fMghEO\">\n",
            "     <ul class=\"_1xgFaf\">\n",
            "      <li class=\"rgWa7D\">\n",
            "       AMD Ryzen 9 Octa Core Processor\n",
            "      </li>\n",
            "      <li class=\"rgWa7D\">\n",
            "       16 GB DDR4 RAM\n",
            "      </li>\n",
            "      <li class=\"rgWa7D\">\n",
            "       64 bit Windows 10 Operating System\n",
            "      </li>\n",
            "      <li class=\"rgWa7D\">\n",
            "       1 TB SSD\n",
            "      </li>\n",
            "      <li class=\"rgWa7D\">\n",
            "       39.62 cm (15.6 inches) Display\n",
            "      </li>\n",
            "      <li class=\"rgWa7D\">\n",
            "       1 Year Onsite Warranty\n",
            "      </li>\n",
            "     </ul>\n",
            "    </div>\n",
            "   </div>\n",
            "   <div class=\"col col-5-12 nlI3QM\">\n",
            "    <div class=\"_3tbKJL\">\n",
            "     <div class=\"_25b18c\">\n",
            "      <div class=\"_30jeq3 _1_WHN1\">\n",
            "       ₹1,41,990\n",
            "      </div>\n",
            "      <div class=\"_3I9_wc _27UcVY\">\n",
            "       ₹\n",
            "       <!-- -->\n",
            "       1,89,990\n",
            "      </div>\n",
            "      <div class=\"_3Ay6Sb\">\n",
            "       <span>\n",
            "        25% off\n",
            "       </span>\n",
            "      </div>\n",
            "     </div>\n",
            "    </div>\n",
            "    <div class=\"_13J9qT\">\n",
            "     <img height=\"21\" src=\"//static-assets-web.flixcart.com/www/linchpin/fk-cp-zion/img/fa_62673a.png\"/>\n",
            "    </div>\n",
            "   </div>\n",
            "  </div>\n",
            " </a>\n",
            "</div>\n"
          ]
        }
      ]
    },
    {
      "cell_type": "code",
      "metadata": {
        "colab": {
          "base_uri": "https://localhost:8080/"
        },
        "id": "5dxwhYnysh9C",
        "outputId": "090d64d5-69ea-4c07-d329-448c35b29334"
      },
      "source": [
        "container = containers[4]\n",
        "prod_name = container.div.img[\"alt\"]\n",
        "print(prod_name)"
      ],
      "execution_count": 28,
      "outputs": [
        {
          "output_type": "stream",
          "name": "stdout",
          "text": [
            "ASUS TUF Gaming F17 (2021) Core i5 11th Gen - (8 GB/1 TB SSD/Windows 10 Home/4 GB Graphics/NVIDIA GeFo...\n"
          ]
        }
      ]
    },
    {
      "cell_type": "code",
      "metadata": {
        "colab": {
          "base_uri": "https://localhost:8080/"
        },
        "id": "Z9jUVvT8sre4",
        "outputId": "67d4e488-dadc-4585-e297-5b7bd14dd840"
      },
      "source": [
        "original_price = container.findAll(\"div\", {\"class\": \"_3I9_wc _27UcVY\"})\n",
        "print(original_price[0].text)"
      ],
      "execution_count": 29,
      "outputs": [
        {
          "output_type": "stream",
          "name": "stdout",
          "text": [
            "₹1,15,990\n"
          ]
        }
      ]
    },
    {
      "cell_type": "code",
      "metadata": {
        "colab": {
          "base_uri": "https://localhost:8080/"
        },
        "id": "2Z8_UT5msyxH",
        "outputId": "e70f0742-4018-4d34-e433-6f52a95dd30a"
      },
      "source": [
        "discount_percent = container.findAll(\"div\", {\"class\": \"_3Ay6Sb\"})\n",
        "print(discount_percent[0].text)"
      ],
      "execution_count": 30,
      "outputs": [
        {
          "output_type": "stream",
          "name": "stdout",
          "text": [
            "32% off\n"
          ]
        }
      ]
    },
    {
      "cell_type": "code",
      "metadata": {
        "colab": {
          "base_uri": "https://localhost:8080/"
        },
        "id": "UGSYw2d4s1LB",
        "outputId": "e2e0273c-3344-409c-eebb-e9b993a2d182"
      },
      "source": [
        "discounted_price = container.findAll(\"div\", {\"class\": \"_30jeq3 _1_WHN1\"})\n",
        "print(discounted_price[0].text)"
      ],
      "execution_count": 31,
      "outputs": [
        {
          "output_type": "stream",
          "name": "stdout",
          "text": [
            "₹77,990\n"
          ]
        }
      ]
    },
    {
      "cell_type": "code",
      "metadata": {
        "colab": {
          "base_uri": "https://localhost:8080/"
        },
        "id": "jok9rDrts8h6",
        "outputId": "f15a62e9-45fb-4f47-ea94-f0e390716e6d"
      },
      "source": [
        "prod_ratings = container.findAll(\"span\", {\"class\": \"_1lRcqv\"})\n",
        "print(prod_ratings[0].text)"
      ],
      "execution_count": 32,
      "outputs": [
        {
          "output_type": "stream",
          "name": "stdout",
          "text": [
            "4.7\n"
          ]
        }
      ]
    },
    {
      "cell_type": "code",
      "metadata": {
        "colab": {
          "base_uri": "https://localhost:8080/"
        },
        "id": "EVFXhZOMtBgV",
        "outputId": "621dd498-e47b-4acd-de3c-d368fb39cf57"
      },
      "source": [
        "reviews = container.findAll(\"span\", {\"class\" : \"_2_R_DZ\"})\n",
        "print(reviews[0].text)"
      ],
      "execution_count": 33,
      "outputs": [
        {
          "output_type": "stream",
          "name": "stdout",
          "text": [
            "35 Ratings & 4 Reviews\n"
          ]
        }
      ]
    },
    {
      "cell_type": "code",
      "metadata": {
        "colab": {
          "base_uri": "https://localhost:8080/"
        },
        "id": "l3ghEmgKtJfp",
        "outputId": "eaa0403c-40da-4961-c3fa-beaf4bb859ec"
      },
      "source": [
        "for container in containers[:5]:\n",
        "    product_name = container.findAll(\"div\", {\"class\": \"_4rR01T\"})    \n",
        "    prod_name = product_name[0].text.strip()\n",
        "    \n",
        "    original_price = container.findAll(\"div\", {\"class\": \"_3I9_wc _27UcVY\"})\n",
        "    original = original_price[0].text.strip()\n",
        "    \n",
        "    discount_percent = container.findAll(\"div\", {\"class\": \"_3Ay6Sb\"})\n",
        "    percent = discount_percent[0].text.strip()\n",
        "    \n",
        "    discounted_price = container.findAll(\"div\", {\"class\": \"_30jeq3 _1_WHN1\"})\n",
        "    discount = discounted_price[0].text.strip()\n",
        "\n",
        "    rating_container = container.findAll(\"span\", {\"class\": \"_1lRcqv\"})\n",
        "    prod_rating = rating_container[0].text.strip()\n",
        "    \n",
        "    reviews_container = container.findAll(\"span\", {\"class\": \"_2_R_DZ\"})\n",
        "    reviews_rating = reviews_container[0].text\n",
        "    \n",
        "    print(\"\\033[1mProduct Name: \\n\"+ '\\033[0m'+ str(prod_name), \"\\n\"),\n",
        "    print(\"\\033[1mOriginal Price: \\n\"+ '\\033[0m'+ str(original), \"\\n\"),\n",
        "    print(\"\\033[1mDiscount Percentage: \\n\"+ '\\033[0m'+ str(percent), \"\\n\"),\n",
        "    print(\"\\033[1mDiscounted Price: \\n\"+ '\\033[0m'+ str(discount), \"\\n\"),\n",
        "    print(\"\\033[1mRatings: \\n\"+ '\\033[0m'+ prod_rating, \"\\n\"),\n",
        "    print(\"\\033[1mNumber of Reviews: \\n\"+ '\\033[0m'+ reviews_rating, \"\\n\"),\n",
        "    print(\"------------------------------------------------------------------------------------------------------------------\")"
      ],
      "execution_count": 34,
      "outputs": [
        {
          "output_type": "stream",
          "name": "stdout",
          "text": [
            "\u001b[1mProduct Name: \n",
            "\u001b[0mAPPLE MacBook Air M1 - (8 GB/256 GB SSD/Mac OS Big Sur) MGN93HN/A \n",
            "\n",
            "\u001b[1mOriginal Price: \n",
            "\u001b[0m₹92,900 \n",
            "\n",
            "\u001b[1mDiscount Percentage: \n",
            "\u001b[0m13% off \n",
            "\n",
            "\u001b[1mDiscounted Price: \n",
            "\u001b[0m₹80,000 \n",
            "\n",
            "\u001b[1mRatings: \n",
            "\u001b[0m4.7 \n",
            "\n",
            "\u001b[1mNumber of Reviews: \n",
            "\u001b[0m1,962 Ratings & 223 Reviews \n",
            "\n",
            "------------------------------------------------------------------------------------------------------------------\n",
            "\u001b[1mProduct Name: \n",
            "\u001b[0mHP Pavilion Gaming Ryzen 7 Octa Core 4800H - (16 GB/1 TB HDD/256 GB SSD/Windows 10 Home/4 GB Graphics/... \n",
            "\n",
            "\u001b[1mOriginal Price: \n",
            "\u001b[0m₹93,564 \n",
            "\n",
            "\u001b[1mDiscount Percentage: \n",
            "\u001b[0m16% off \n",
            "\n",
            "\u001b[1mDiscounted Price: \n",
            "\u001b[0m₹77,990 \n",
            "\n",
            "\u001b[1mRatings: \n",
            "\u001b[0m4.5 \n",
            "\n",
            "\u001b[1mNumber of Reviews: \n",
            "\u001b[0m335 Ratings & 53 Reviews \n",
            "\n",
            "------------------------------------------------------------------------------------------------------------------\n",
            "\u001b[1mProduct Name: \n",
            "\u001b[0mASUS ROG Strix G15 Core i7 10th Gen - (16 GB/512 GB SSD/Windows 10 Home/4 GB Graphics/NVIDIA GeForce G... \n",
            "\n",
            "\u001b[1mOriginal Price: \n",
            "\u001b[0m₹86,990 \n",
            "\n",
            "\u001b[1mDiscount Percentage: \n",
            "\u001b[0m8% off \n",
            "\n",
            "\u001b[1mDiscounted Price: \n",
            "\u001b[0m₹79,990 \n",
            "\n",
            "\u001b[1mRatings: \n",
            "\u001b[0m4.6 \n",
            "\n",
            "\u001b[1mNumber of Reviews: \n",
            "\u001b[0m286 Ratings & 46 Reviews \n",
            "\n",
            "------------------------------------------------------------------------------------------------------------------\n",
            "\u001b[1mProduct Name: \n",
            "\u001b[0mASUS ROG Zephyrus G15 Ryzen 9 Octa Core 5900HS - (16 GB/1 TB SSD/Windows 10 Home/6 GB Graphics/NVIDIA ... \n",
            "\n",
            "\u001b[1mOriginal Price: \n",
            "\u001b[0m₹1,89,990 \n",
            "\n",
            "\u001b[1mDiscount Percentage: \n",
            "\u001b[0m25% off \n",
            "\n",
            "\u001b[1mDiscounted Price: \n",
            "\u001b[0m₹1,41,990 \n",
            "\n",
            "\u001b[1mRatings: \n",
            "\u001b[0m4.2 \n",
            "\n",
            "\u001b[1mNumber of Reviews: \n",
            "\u001b[0m18 Ratings & 7 Reviews \n",
            "\n",
            "------------------------------------------------------------------------------------------------------------------\n",
            "\u001b[1mProduct Name: \n",
            "\u001b[0mASUS TUF Gaming F17 (2021) Core i5 11th Gen - (8 GB/1 TB SSD/Windows 10 Home/4 GB Graphics/NVIDIA GeFo... \n",
            "\n",
            "\u001b[1mOriginal Price: \n",
            "\u001b[0m₹1,15,990 \n",
            "\n",
            "\u001b[1mDiscount Percentage: \n",
            "\u001b[0m32% off \n",
            "\n",
            "\u001b[1mDiscounted Price: \n",
            "\u001b[0m₹77,990 \n",
            "\n",
            "\u001b[1mRatings: \n",
            "\u001b[0m4.7 \n",
            "\n",
            "\u001b[1mNumber of Reviews: \n",
            "\u001b[0m35 Ratings & 4 Reviews \n",
            "\n",
            "------------------------------------------------------------------------------------------------------------------\n"
          ]
        }
      ]
    }
  ]
}